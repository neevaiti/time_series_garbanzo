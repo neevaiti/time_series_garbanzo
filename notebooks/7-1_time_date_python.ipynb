{
 "cells": [
  {
   "cell_type": "markdown",
   "metadata": {},
   "source": [
    "# Créer des times et des datetimes"
   ]
  },
  {
   "cell_type": "markdown",
   "metadata": {},
   "source": [
    "## Unix Epoch"
   ]
  },
  {
   "cell_type": "markdown",
   "metadata": {},
   "source": [
    "La plupart des systèmes informatiques mesurent le temps à partir d'un point de départ choisi arbitrairement appelé le \"Unix epoch\" qui correspond au 1er janvier 1970, 00h00 UTC. "
   ]
  },
  {
   "cell_type": "code",
   "execution_count": 2,
   "metadata": {},
   "outputs": [
    {
     "name": "stdout",
     "output_type": "stream",
     "text": [
      "Déja 1667903327.0747452 secondes de passées depuis le 1er janvier 1970\n"
     ]
    }
   ],
   "source": [
    "import time\n",
    "\n",
    "print(f\"Déja {time.time()} secondes de passées depuis le 1er janvier 1970\")"
   ]
  },
  {
   "cell_type": "markdown",
   "metadata": {},
   "source": [
    "## Les classes du package datetime"
   ]
  },
  {
   "cell_type": "markdown",
   "metadata": {},
   "source": [
    "Les secondes sont pratiques pour mesurer les temps d'execution de notre code, mais en data-science, on travaille davantage avec les dates:"
   ]
  },
  {
   "cell_type": "code",
   "execution_count": 6,
   "metadata": {},
   "outputs": [
    {
     "name": "stdout",
     "output_type": "stream",
     "text": [
      "2002-10-29 18:00:00 <class 'datetime.datetime'>\n"
     ]
    }
   ],
   "source": [
    "from datetime import datetime\n",
    "\n",
    "some_date = datetime(2002,10,29, 18 ,0 ,0 )\n",
    "\n",
    "print(some_date, type (some_date))\n",
    "\n"
   ]
  },
  {
   "cell_type": "markdown",
   "metadata": {},
   "source": [
    "On remarque:\n",
    "- datetime est une classe du package datetime qui a le mauvais gout de ne pas comencer par un majuscule\n",
    "- on adopte le format anglais: annee/mois/jour"
   ]
  },
  {
   "cell_type": "markdown",
   "metadata": {},
   "source": [
    "Il existe trois classes centrales dans la librairie datetime:\n",
    "- datetime\n",
    "- date\n",
    "- time"
   ]
  },
  {
   "cell_type": "markdown",
   "metadata": {},
   "source": [
    "## Créer des datetimes à partir de chaines de caractères"
   ]
  },
  {
   "cell_type": "markdown",
   "metadata": {},
   "source": [
    "On peut aussi utiliser le format ISO qui permet de créer une date à partir d'une chaine de caractères."
   ]
  },
  {
   "cell_type": "code",
   "execution_count": 8,
   "metadata": {},
   "outputs": [
    {
     "name": "stdout",
     "output_type": "stream",
     "text": [
      "2002-10-29 18:00:00 <class 'datetime.datetime'>\n"
     ]
    }
   ],
   "source": [
    "some_date = datetime.fromisoformat(\"2002-10-29T18:00:00\")\n",
    "print(some_date, type (some_date))"
   ]
  },
  {
   "cell_type": "markdown",
   "metadata": {},
   "source": [
    "On utilise souvent le constructeur \"now\""
   ]
  },
  {
   "cell_type": "code",
   "execution_count": 9,
   "metadata": {},
   "outputs": [
    {
     "data": {
      "text/plain": [
       "datetime.datetime(2022, 11, 8, 11, 39, 3, 711506)"
      ]
     },
     "execution_count": 9,
     "metadata": {},
     "output_type": "execute_result"
    }
   ],
   "source": [
    "datetime.now()"
   ]
  },
  {
   "cell_type": "markdown",
   "metadata": {},
   "source": [
    "A l'aide des fonctions strftime() et strptime(), on peut aussi utiliser n'importe quel [format](https://strftime.org/)"
   ]
  },
  {
   "cell_type": "code",
   "execution_count": 11,
   "metadata": {},
   "outputs": [
    {
     "name": "stdout",
     "output_type": "stream",
     "text": [
      "Today's date is:  2020-01-02 00:00:00\n"
     ]
    }
   ],
   "source": [
    "date_str = \"2 january, 2020\"\n",
    "\n",
    "\n",
    "date_obj = datetime.strptime(date_str, \"%d %B, %Y\")\n",
    "\n",
    "print(\"Today's date is: \", date_obj)"
   ]
  },
  {
   "cell_type": "code",
   "execution_count": 12,
   "metadata": {},
   "outputs": [
    {
     "name": "stdout",
     "output_type": "stream",
     "text": [
      "Time: 15:30:56\n",
      "Date and Time: 11/08/2022, 15:30:56\n"
     ]
    }
   ],
   "source": [
    "now = datetime.now()\n",
    "\n",
    "# format time in HH:MM:SS\n",
    "time = now.strftime(\"%H:%M:%S\")\n",
    "print(\"Time:\", time)\n",
    "\n",
    "# format date\n",
    "date_time = now.strftime(\"%m/%d/%Y, %H:%M:%S\")\n",
    "print(\"Date and Time:\",date_time)"
   ]
  },
  {
   "cell_type": "markdown",
   "metadata": {},
   "source": [
    "## Utiliser un parser"
   ]
  },
  {
   "cell_type": "markdown",
   "metadata": {},
   "source": [
    "Parfois la date est exprimer de manière trop abstraite pour que datetime comprenne. Il faut alors se tourner vers d'autres librairies"
   ]
  },
  {
   "cell_type": "code",
   "execution_count": 18,
   "metadata": {},
   "outputs": [
    {
     "data": {
      "text/plain": [
       "datetime.datetime(2022, 11, 8, 16, 21, 29, 511815)"
      ]
     },
     "execution_count": 18,
     "metadata": {},
     "output_type": "execute_result"
    }
   ],
   "source": [
    "import dateparser\n",
    "\n",
    "dateparser.parse(\"aujourd'hui\")"
   ]
  },
  {
   "cell_type": "code",
   "execution_count": 19,
   "metadata": {},
   "outputs": [],
   "source": [
    "dateparser.parse(\"il y a un mois à minuit\")"
   ]
  },
  {
   "cell_type": "markdown",
   "metadata": {},
   "source": [
    "# Obtenir les détails d'un datetime"
   ]
  },
  {
   "cell_type": "code",
   "execution_count": 10,
   "metadata": {},
   "outputs": [
    {
     "name": "stdout",
     "output_type": "stream",
     "text": [
      "Year:  2022\n",
      "Month:  11\n",
      "Day of Month: 8\n",
      "Day of Month: 12\n",
      "Day of Month: 1\n",
      "Day of Month: 19\n",
      "Day of Week (number):  1\n",
      "Day of Week (name):  Tuesday\n"
     ]
    }
   ],
   "source": [
    "my_date= datetime.now()\n",
    "\n",
    "import calendar\n",
    "\n",
    "print('Year: ', my_date.year) \n",
    "\n",
    "print('Month: ', my_date.month) \n",
    "\n",
    "print('Day of Month:', my_date.day)\n",
    "\n",
    "print('Day of Month:', my_date.hour)\n",
    "\n",
    "print('Day of Month:', my_date.minute)\n",
    "\n",
    "print('Day of Month:', my_date.second)\n",
    "\n",
    "print('Day of Week (number): ', my_date.weekday())\n",
    "\n",
    "import calendar\n",
    "print('Day of Week (name): ', calendar.day_name[my_date.weekday()])"
   ]
  },
  {
   "cell_type": "markdown",
   "metadata": {},
   "source": [
    "Attention le weekday commence à zéro"
   ]
  },
  {
   "cell_type": "markdown",
   "metadata": {},
   "source": [
    "# Opérations sur les datetimes"
   ]
  },
  {
   "cell_type": "markdown",
   "metadata": {},
   "source": [
    "Pour faire des opérations sur les datetimes, il faut utiliser un time delta"
   ]
  },
  {
   "cell_type": "code",
   "execution_count": null,
   "metadata": {},
   "outputs": [],
   "source": [
    "from datetime import timedelta\n",
    "print(timedelta(days= 365, hours= 12, minutes= 30))"
   ]
  },
  {
   "cell_type": "code",
   "execution_count": null,
   "metadata": {},
   "outputs": [],
   "source": [
    "now = datetime.now()\n",
    "print (\"Today's date & time: \", str(now))\n",
    "\n",
    "future_date_after_one_year = now + timedelta(days = 365)\n",
    "print('Date & time after one year: ', future_date_after_one_year)\n",
    "\n",
    "seven_days_ago = now - timedelta(days = 7)\n",
    "print('Date & time seven days ago: ', seven_days_ago)"
   ]
  },
  {
   "cell_type": "markdown",
   "metadata": {},
   "source": [
    "# Timezone Aware, Timezone Naive."
   ]
  },
  {
   "cell_type": "markdown",
   "metadata": {},
   "source": [
    "Par défaut l'objet datetime est timezone naive. C'est à dire que l'heure ne correspond pas à une Timezone particulière et il n'est donc pas possible de faire des conversions ni de gérer les heures d'été et d'hiver."
   ]
  },
  {
   "cell_type": "markdown",
   "metadata": {},
   "source": [
    "On peut utiliser la librairie pytz pour gérer les [timezones](https://en.wikipedia.org/wiki/List_of_tz_database_time_zones)"
   ]
  },
  {
   "cell_type": "code",
   "execution_count": 16,
   "metadata": {},
   "outputs": [
    {
     "name": "stdout",
     "output_type": "stream",
     "text": [
      "2022-11-08 15:43:09.787831\n",
      "2022-11-08 15:43:09.787831+01:00\n"
     ]
    }
   ],
   "source": [
    "from pytz import timezone\n",
    "\n",
    "now = datetime.now()\n",
    "\n",
    "print(now)\n",
    "\n",
    "utc = timezone(\"Europe/Paris\")\n",
    "\n",
    "localize_now = utc.localize(now)\n",
    "\n",
    "print(localize_now)\n"
   ]
  }
 ],
 "metadata": {
  "kernelspec": {
   "display_name": "Python 3.9.12 ('env': venv)",
   "language": "python",
   "name": "python3"
  },
  "language_info": {
   "codemirror_mode": {
    "name": "ipython",
    "version": 3
   },
   "file_extension": ".py",
   "mimetype": "text/x-python",
   "name": "python",
   "nbconvert_exporter": "python",
   "pygments_lexer": "ipython3",
   "version": "3.9.12 (main, Mar 26 2022, 15:51:13) \n[Clang 12.0.0 (clang-1200.0.32.29)]"
  },
  "orig_nbformat": 4,
  "vscode": {
   "interpreter": {
    "hash": "0607a848ffd73ecc9cc21824b435c3b7f19a6ddc6b88730c443268397d59d817"
   }
  }
 },
 "nbformat": 4,
 "nbformat_minor": 2
}
