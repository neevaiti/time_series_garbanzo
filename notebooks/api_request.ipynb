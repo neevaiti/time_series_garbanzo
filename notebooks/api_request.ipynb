{
 "cells": [
  {
   "cell_type": "markdown",
   "metadata": {},
   "source": [
    "Pour requeter les api avec python, on va utiliser le package [requests](https://pypi.org/project/requests/):"
   ]
  },
  {
   "cell_type": "code",
   "execution_count": 1,
   "metadata": {},
   "outputs": [],
   "source": [
    "import requests"
   ]
  },
  {
   "cell_type": "markdown",
   "metadata": {},
   "source": [
    "Pour s'entrainer et voir la syntaxe des requetes, on va utiliser une API très simple à propos de [Lord of the ring](https://the-one-api.dev/)"
   ]
  },
  {
   "cell_type": "markdown",
   "metadata": {},
   "source": [
    "Quand on découvre une nouvelle API, il y a quelques éléments essentiel à aller chercher:\n",
    "- Est ce qu'un compte, une identificatio est nécessaire pour accéder à l'api et comment l'obtenir\n",
    "  - Pour cette API, il faut se créer un compte, vous pouvez utiliser le mien, parfois il faut créer une session en faisant directement une requete.\n",
    "- Quel est l'url de cet API\n",
    "  - ici ce sera \"https://the-one-api.dev/v2/\"\n",
    "- Quelles requetes je peux effectuer et comment puis-je les rédiger\n",
    "  - Il faut consulter la [documentation](https://the-one-api.dev/documentation)"
   ]
  },
  {
   "cell_type": "markdown",
   "metadata": {},
   "source": [
    "Je peux effectuer ma première requete, si on regarde la documentation, celle-ci ne nécessite pas de compte"
   ]
  },
  {
   "cell_type": "code",
   "execution_count": 2,
   "metadata": {},
   "outputs": [],
   "source": [
    "URL = \"https://the-one-api.dev/v2/\"\n",
    "\n",
    "list_of_book = requests.get(URL + \"book\")\n",
    "\n",
    "# print(list_of_book.json())"
   ]
  },
  {
   "cell_type": "code",
   "execution_count": 15,
   "metadata": {},
   "outputs": [
    {
     "data": {
      "text/plain": [
       "{'docs': [{'_id': '5cf5805fb53e011a64671582',\n",
       "   'name': 'The Fellowship Of The Ring'},\n",
       "  {'_id': '5cf58077b53e011a64671583', 'name': 'The Two Towers'},\n",
       "  {'_id': '5cf58080b53e011a64671584', 'name': 'The Return Of The King'}],\n",
       " 'total': 3,\n",
       " 'limit': 1000,\n",
       " 'offset': 0,\n",
       " 'page': 1,\n",
       " 'pages': 1}"
      ]
     },
     "execution_count": 15,
     "metadata": {},
     "output_type": "execute_result"
    }
   ],
   "source": [
    "list_of_book.json()"
   ]
  },
  {
   "cell_type": "markdown",
   "metadata": {},
   "source": [
    "Pour afficher le résultat, on a utiliser la méthon .json, on peut en effet s'attarder un peu sur l'objet obtenu"
   ]
  },
  {
   "cell_type": "code",
   "execution_count": 3,
   "metadata": {},
   "outputs": [
    {
     "data": {
      "text/plain": [
       "requests.models.Response"
      ]
     },
     "execution_count": 3,
     "metadata": {},
     "output_type": "execute_result"
    }
   ],
   "source": [
    "type(list_of_book)"
   ]
  },
  {
   "cell_type": "code",
   "execution_count": 4,
   "metadata": {},
   "outputs": [
    {
     "data": {
      "text/plain": [
       "['__attrs__',\n",
       " '__bool__',\n",
       " '__class__',\n",
       " '__delattr__',\n",
       " '__dict__',\n",
       " '__dir__',\n",
       " '__doc__',\n",
       " '__enter__',\n",
       " '__eq__',\n",
       " '__exit__',\n",
       " '__format__',\n",
       " '__ge__',\n",
       " '__getattribute__',\n",
       " '__getstate__',\n",
       " '__gt__',\n",
       " '__hash__',\n",
       " '__init__',\n",
       " '__init_subclass__',\n",
       " '__iter__',\n",
       " '__le__',\n",
       " '__lt__',\n",
       " '__module__',\n",
       " '__ne__',\n",
       " '__new__',\n",
       " '__nonzero__',\n",
       " '__reduce__',\n",
       " '__reduce_ex__',\n",
       " '__repr__',\n",
       " '__setattr__',\n",
       " '__setstate__',\n",
       " '__sizeof__',\n",
       " '__str__',\n",
       " '__subclasshook__',\n",
       " '__weakref__',\n",
       " '_content',\n",
       " '_content_consumed',\n",
       " '_next',\n",
       " 'apparent_encoding',\n",
       " 'close',\n",
       " 'connection',\n",
       " 'content',\n",
       " 'cookies',\n",
       " 'elapsed',\n",
       " 'encoding',\n",
       " 'headers',\n",
       " 'history',\n",
       " 'is_permanent_redirect',\n",
       " 'is_redirect',\n",
       " 'iter_content',\n",
       " 'iter_lines',\n",
       " 'json',\n",
       " 'links',\n",
       " 'next',\n",
       " 'ok',\n",
       " 'raise_for_status',\n",
       " 'raw',\n",
       " 'reason',\n",
       " 'request',\n",
       " 'status_code',\n",
       " 'text',\n",
       " 'url']"
      ]
     },
     "execution_count": 4,
     "metadata": {},
     "output_type": "execute_result"
    }
   ],
   "source": [
    "dir(list_of_book)"
   ]
  },
  {
   "cell_type": "markdown",
   "metadata": {},
   "source": [
    "On voit qu'on dispose d'autres attributs interesants:"
   ]
  },
  {
   "cell_type": "code",
   "execution_count": 16,
   "metadata": {},
   "outputs": [
    {
     "name": "stdout",
     "output_type": "stream",
     "text": [
      "list_of_book.status_code=200\n",
      "list_of_book.text='{\"docs\":[{\"_id\":\"5cf5805fb53e011a64671582\",\"name\":\"The Fellowship Of The Ring\"},{\"_id\":\"5cf58077b53e011a64671583\",\"name\":\"The Two Towers\"},{\"_id\":\"5cf58080b53e011a64671584\",\"name\":\"The Return Of The King\"}],\"total\":3,\"limit\":1000,\"offset\":0,\"page\":1,\"pages\":1}'\n",
      "list_of_book.url='https://the-one-api.dev/v2/book'\n",
      "list_of_book.reason='OK'\n"
     ]
    }
   ],
   "source": [
    "print(f\"{list_of_book.status_code=}\")\n",
    "print(f\"{list_of_book.text=}\")\n",
    "print(f\"{list_of_book.url=}\")\n",
    "print(f\"{list_of_book.reason=}\")\n"
   ]
  },
  {
   "cell_type": "markdown",
   "metadata": {},
   "source": [
    "On a récupérer les id des livres, on pourrait requeter de manière brutale les chapitres:"
   ]
  },
  {
   "cell_type": "code",
   "execution_count": 14,
   "metadata": {},
   "outputs": [
    {
     "name": "stdout",
     "output_type": "stream",
     "text": [
      "{'docs': [{'_id': '6091b6d6d58360f988133b8b', 'chapterName': 'A Long-expected Party'}, {'_id': '6091b6d6d58360f988133b8c', 'chapterName': 'The Shadow of the Past'}, {'_id': '6091b6d6d58360f988133b8d', 'chapterName': 'Three is Company'}, {'_id': '6091b6d6d58360f988133b8e', 'chapterName': 'A Short Cut to Mushrooms'}, {'_id': '6091b6d6d58360f988133b8f', 'chapterName': 'A Conspiracy Unmasked'}, {'_id': '6091b6d6d58360f988133b90', 'chapterName': 'The Old Forest'}, {'_id': '6091b6d6d58360f988133b91', 'chapterName': 'In the House of Tom Bombadil'}, {'_id': '6091b6d6d58360f988133b92', 'chapterName': 'Fog on the Barrow-Downs'}, {'_id': '6091b6d6d58360f988133b93', 'chapterName': 'At the Sign of The Prancing Pony'}, {'_id': '6091b6d6d58360f988133b94', 'chapterName': 'Strider'}, {'_id': '6091b6d6d58360f988133b95', 'chapterName': 'A Knife in the Dark'}, {'_id': '6091b6d6d58360f988133b96', 'chapterName': 'Flight to the Ford'}, {'_id': '6091b6d6d58360f988133b97', 'chapterName': 'Many Meetings'}, {'_id': '6091b6d6d58360f988133b98', 'chapterName': 'The Council of Elrond'}, {'_id': '6091b6d6d58360f988133b99', 'chapterName': 'The Ring Goes South'}, {'_id': '6091b6d6d58360f988133b9a', 'chapterName': 'A Journey in the Dark'}, {'_id': '6091b6d6d58360f988133b9b', 'chapterName': 'The Bridge of Khazad-dûm'}, {'_id': '6091b6d6d58360f988133b9c', 'chapterName': 'Lothlórien'}, {'_id': '6091b6d6d58360f988133b9d', 'chapterName': 'The Mirror of Galadriel'}, {'_id': '6091b6d6d58360f988133b9e', 'chapterName': 'Farewell to Lórien'}, {'_id': '6091b6d6d58360f988133b9f', 'chapterName': 'The Great River'}, {'_id': '6091b6d6d58360f988133ba0', 'chapterName': 'The Breaking of the Fellowship'}], 'total': 22, 'limit': 1000, 'offset': 0, 'page': 1, 'pages': 1}\n"
     ]
    }
   ],
   "source": [
    "chapter_of_the_first_book =  requests.get(URL + \"book/5cf5805fb53e011a64671582/chapter\")\n",
    "print(chapter_of_the_first_book.json())"
   ]
  },
  {
   "cell_type": "markdown",
   "metadata": {},
   "source": [
    "L'avantage d'utiliser python est de faire des choses un peu plus subtiles:"
   ]
  },
  {
   "cell_type": "code",
   "execution_count": 26,
   "metadata": {},
   "outputs": [
    {
     "data": {
      "text/plain": [
       "'The Two Towers'"
      ]
     },
     "execution_count": 26,
     "metadata": {},
     "output_type": "execute_result"
    }
   ],
   "source": [
    "list_of_book.json()[\"docs\"][1][\"name\"]"
   ]
  },
  {
   "cell_type": "code",
   "execution_count": 16,
   "metadata": {},
   "outputs": [],
   "source": [
    "all_chapters={}\n",
    "for book in list_of_book.json()[\"docs\"]:\n",
    "    all_chapters[book[\"name\"]] = requests.get(URL + \"book/\" + book[\"_id\"] + \"/chapter\").json()"
   ]
  },
  {
   "cell_type": "code",
   "execution_count": 17,
   "metadata": {},
   "outputs": [
    {
     "name": "stdout",
     "output_type": "stream",
     "text": [
      "{'The Fellowship Of The Ring': {'docs': [{'_id': '6091b6d6d58360f988133b8b', 'chapterName': 'A Long-expected Party'}, {'_id': '6091b6d6d58360f988133b8c', 'chapterName': 'The Shadow of the Past'}, {'_id': '6091b6d6d58360f988133b8d', 'chapterName': 'Three is Company'}, {'_id': '6091b6d6d58360f988133b8e', 'chapterName': 'A Short Cut to Mushrooms'}, {'_id': '6091b6d6d58360f988133b8f', 'chapterName': 'A Conspiracy Unmasked'}, {'_id': '6091b6d6d58360f988133b90', 'chapterName': 'The Old Forest'}, {'_id': '6091b6d6d58360f988133b91', 'chapterName': 'In the House of Tom Bombadil'}, {'_id': '6091b6d6d58360f988133b92', 'chapterName': 'Fog on the Barrow-Downs'}, {'_id': '6091b6d6d58360f988133b93', 'chapterName': 'At the Sign of The Prancing Pony'}, {'_id': '6091b6d6d58360f988133b94', 'chapterName': 'Strider'}, {'_id': '6091b6d6d58360f988133b95', 'chapterName': 'A Knife in the Dark'}, {'_id': '6091b6d6d58360f988133b96', 'chapterName': 'Flight to the Ford'}, {'_id': '6091b6d6d58360f988133b97', 'chapterName': 'Many Meetings'}, {'_id': '6091b6d6d58360f988133b98', 'chapterName': 'The Council of Elrond'}, {'_id': '6091b6d6d58360f988133b99', 'chapterName': 'The Ring Goes South'}, {'_id': '6091b6d6d58360f988133b9a', 'chapterName': 'A Journey in the Dark'}, {'_id': '6091b6d6d58360f988133b9b', 'chapterName': 'The Bridge of Khazad-dûm'}, {'_id': '6091b6d6d58360f988133b9c', 'chapterName': 'Lothlórien'}, {'_id': '6091b6d6d58360f988133b9d', 'chapterName': 'The Mirror of Galadriel'}, {'_id': '6091b6d6d58360f988133b9e', 'chapterName': 'Farewell to Lórien'}, {'_id': '6091b6d6d58360f988133b9f', 'chapterName': 'The Great River'}, {'_id': '6091b6d6d58360f988133ba0', 'chapterName': 'The Breaking of the Fellowship'}], 'total': 22, 'limit': 1000, 'offset': 0, 'page': 1, 'pages': 1}, 'The Two Towers': {'docs': [{'_id': '6091b6d6d58360f988133ba1', 'chapterName': 'The Departure of Boromir'}, {'_id': '6091b6d6d58360f988133ba2', 'chapterName': 'The Riders of Rohan'}, {'_id': '6091b6d6d58360f988133ba3', 'chapterName': 'The Uruk-Hai'}, {'_id': '6091b6d6d58360f988133ba4', 'chapterName': 'Treebeard'}, {'_id': '6091b6d6d58360f988133ba5', 'chapterName': 'The White Rider'}, {'_id': '6091b6d6d58360f988133ba6', 'chapterName': 'The King of the Golden Hall'}, {'_id': '6091b6d6d58360f988133ba7', 'chapterName': \"Helm's Deep\"}, {'_id': '6091b6d6d58360f988133ba8', 'chapterName': 'The Road to Isengard'}, {'_id': '6091b6d6d58360f988133ba9', 'chapterName': 'Flotsam and Jetsam'}, {'_id': '6091b6d6d58360f988133baa', 'chapterName': 'The Voice of Saruman'}, {'_id': '6091b6d6d58360f988133bab', 'chapterName': 'The Palantir'}, {'_id': '6091b6d6d58360f988133bac', 'chapterName': 'The Taming of Smeagol'}, {'_id': '6091b6d6d58360f988133bad', 'chapterName': 'The Passage of the Marshes'}, {'_id': '6091b6d6d58360f988133bae', 'chapterName': 'The Black Gate is Closed'}, {'_id': '6091b6d6d58360f988133baf', 'chapterName': 'Of Herbs and Stewed Rabbit'}, {'_id': '6091b6d6d58360f988133bb0', 'chapterName': 'The Window on the West'}, {'_id': '6091b6d6d58360f988133bb1', 'chapterName': 'The Forbidden Pool'}, {'_id': '6091b6d6d58360f988133bb2', 'chapterName': 'Journey to the Cross-roads'}, {'_id': '6091b6d6d58360f988133bb3', 'chapterName': 'The Stairs of Cirith Ungol'}, {'_id': '6091b6d6d58360f988133bb4', 'chapterName': \"Shelob's Lair\"}, {'_id': '6091b6d6d58360f988133bb5', 'chapterName': 'The Choices of Master Samwise'}], 'total': 21, 'limit': 1000, 'offset': 0, 'page': 1, 'pages': 1}, 'The Return Of The King': {'docs': [{'_id': '6091b6d6d58360f988133bb6', 'chapterName': 'Minas Tirith'}, {'_id': '6091b6d6d58360f988133bb7', 'chapterName': 'The Passing of the Grey Company'}, {'_id': '6091b6d6d58360f988133bb8', 'chapterName': 'The Muster of Rohan'}, {'_id': '6091b6d6d58360f988133bb9', 'chapterName': 'The Siege of Gondor'}, {'_id': '6091b6d6d58360f988133bba', 'chapterName': 'The Ride of the Rohirrim'}, {'_id': '6091b6d6d58360f988133bbb', 'chapterName': 'The Battle of the Pelennor Fields'}, {'_id': '6091b6d6d58360f988133bbc', 'chapterName': 'The Pyre of Denethor'}, {'_id': '6091b6d6d58360f988133bbd', 'chapterName': 'The Houses of Healing'}, {'_id': '6091b6d6d58360f988133bbe', 'chapterName': 'The Last Debate'}, {'_id': '6091b6d6d58360f988133bbf', 'chapterName': 'The Black Gate Opens'}, {'_id': '6091b6d6d58360f988133bc0', 'chapterName': 'The Tower of Cirith Ungol'}, {'_id': '6091b6d6d58360f988133bc1', 'chapterName': 'The Land of Shadow'}, {'_id': '6091b6d6d58360f988133bc2', 'chapterName': 'Mount Doom'}, {'_id': '6091b6d6d58360f988133bc3', 'chapterName': 'The Field of Cormallen'}, {'_id': '6091b6d6d58360f988133bc4', 'chapterName': 'The Steward and the King'}, {'_id': '6091b6d6d58360f988133bc5', 'chapterName': 'Many Partings'}, {'_id': '6091b6d6d58360f988133bc6', 'chapterName': 'Homeward Bound'}, {'_id': '6091b6d6d58360f988133bc7', 'chapterName': 'The Scouring of the Shire'}, {'_id': '6091b6d6d58360f988133bc8', 'chapterName': 'The Grey Havens'}], 'total': 19, 'limit': 1000, 'offset': 0, 'page': 1, 'pages': 1}}\n"
     ]
    }
   ],
   "source": [
    "print(all_chapters)"
   ]
  },
  {
   "cell_type": "code",
   "execution_count": null,
   "metadata": {},
   "outputs": [],
   "source": [
    "response_get_square = requests.post(URL + \"square\", {\"number\" : 10})\n",
    "\n",
    "print(response_get_square.json())"
   ]
  },
  {
   "cell_type": "markdown",
   "metadata": {},
   "source": [
    "Voyons a présent comment faire les requetes qui necessite un Token"
   ]
  },
  {
   "cell_type": "code",
   "execution_count": 19,
   "metadata": {},
   "outputs": [
    {
     "ename": "KeyError",
     "evalue": "'docs'",
     "output_type": "error",
     "traceback": [
      "\u001b[0;31m---------------------------------------------------------------------------\u001b[0m",
      "\u001b[0;31mKeyError\u001b[0m                                  Traceback (most recent call last)",
      "\u001b[0;32m/var/folders/py/4rt338cj1ks4z3332m7l3f880000gp/T/ipykernel_38065/3869640349.py\u001b[0m in \u001b[0;36m<module>\u001b[0;34m\u001b[0m\n\u001b[1;32m      5\u001b[0m \u001b[0mlist_of_character\u001b[0m \u001b[0;34m=\u001b[0m \u001b[0mrequests\u001b[0m\u001b[0;34m.\u001b[0m\u001b[0mget\u001b[0m\u001b[0;34m(\u001b[0m\u001b[0mURL\u001b[0m \u001b[0;34m+\u001b[0m \u001b[0;34m\"character/\"\u001b[0m\u001b[0;34m)\u001b[0m\u001b[0;34m\u001b[0m\u001b[0;34m\u001b[0m\u001b[0m\n\u001b[1;32m      6\u001b[0m \u001b[0;34m\u001b[0m\u001b[0m\n\u001b[0;32m----> 7\u001b[0;31m \u001b[0mprint\u001b[0m\u001b[0;34m(\u001b[0m\u001b[0mlist_of_character\u001b[0m\u001b[0;34m.\u001b[0m\u001b[0mjson\u001b[0m\u001b[0;34m(\u001b[0m\u001b[0;34m)\u001b[0m\u001b[0;34m[\u001b[0m\u001b[0;34m\"docs\"\u001b[0m\u001b[0;34m]\u001b[0m\u001b[0;34m[\u001b[0m\u001b[0;36m0\u001b[0m\u001b[0;34m]\u001b[0m\u001b[0;34m)\u001b[0m\u001b[0;34m\u001b[0m\u001b[0;34m\u001b[0m\u001b[0m\n\u001b[0m",
      "\u001b[0;31mKeyError\u001b[0m: 'docs'"
     ]
    }
   ],
   "source": [
    "token = \"_2fa6BL0SwgsJHSdXg6U\"\n",
    "\n",
    "headers = {\"Authorization\": \"Bearer \"+token}\n",
    "\n",
    "list_of_character = requests.get(URL + \"character/\", headers=headers)\n",
    "\n",
    "print(list_of_character.json()[\"docs\"][0])"
   ]
  },
  {
   "cell_type": "code",
   "execution_count": 21,
   "metadata": {},
   "outputs": [
    {
     "data": {
      "text/plain": [
       "{'success': False, 'message': 'Unauthorized.'}"
      ]
     },
     "execution_count": 21,
     "metadata": {},
     "output_type": "execute_result"
    }
   ],
   "source": [
    "token = \"_2fa6BL0SwgsJHSdXg6U\"\n",
    "\n",
    "headers = {\"Authorization\": \"Bearer \"+token}\n",
    "\n",
    "list_of_character = requests.get(URL + \"character/\")\n",
    "\n",
    "list_of_character.json()"
   ]
  },
  {
   "cell_type": "markdown",
   "metadata": {},
   "source": [
    "L'api que nous utilisons n'a ni requete post, et n'utilise pas de paramètre mais il suffirait de suive cette syntaxe:"
   ]
  },
  {
   "cell_type": "code",
   "execution_count": null,
   "metadata": {},
   "outputs": [],
   "source": [
    "payload = {'key1': 'value1', 'key2': 'value2'}\n",
    "r = requests.get(URL, params=payload)"
   ]
  }
 ],
 "metadata": {
  "kernelspec": {
   "display_name": "Python 3.9.12 64-bit",
   "language": "python",
   "name": "python3"
  },
  "language_info": {
   "codemirror_mode": {
    "name": "ipython",
    "version": 3
   },
   "file_extension": ".py",
   "mimetype": "text/x-python",
   "name": "python",
   "nbconvert_exporter": "python",
   "pygments_lexer": "ipython3",
   "version": "3.9.12 (main, Mar 26 2022, 15:51:13) \n[Clang 12.0.0 (clang-1200.0.32.29)]"
  },
  "orig_nbformat": 4,
  "vscode": {
   "interpreter": {
    "hash": "aee8b7b246df8f9039afb4144a1f6fd8d2ca17a180786b69acc140d282b71a49"
   }
  }
 },
 "nbformat": 4,
 "nbformat_minor": 2
}
